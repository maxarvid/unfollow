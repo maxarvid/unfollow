{
 "cells": [
  {
   "cell_type": "code",
   "execution_count": null,
   "metadata": {},
   "outputs": [],
   "source": [
    "import tweepy\n",
    "from keys import keys\n",
    "\n",
    "SCREEN_NAME = keys['screen_name']\n",
    "CONSUMER_KEY = keys['consumer_key']\n",
    "CONSUMER_SECRET = keys['consumer_secret']\n",
    "ACCESS_TOKEN = keys['access_token']\n",
    "ACCESS_TOKEN_SECRET = keys['access_token_secret']\n",
    " \n",
    "auth = tweepy.OAuthHandler(CONSUMER_KEY, CONSUMER_SECRET)\n",
    "auth.set_access_token(ACCESS_TOKEN, ACCESS_TOKEN_SECRET)\n",
    "api = tweepy.API(auth)"
   ]
  },
  {
   "cell_type": "code",
   "execution_count": null,
   "metadata": {},
   "outputs": [],
   "source": [
    "followers = api.followers_ids(SCREEN_NAME)\n",
    "friends = api.friends_ids(SCREEN_NAME)\n",
    " \n",
    "for f in friends:\n",
    "    if f not in followers:\n",
    "        print(\"Unfollowing {0}\".format(api.get_user(f).screen_name))\n",
    "        api.destroy_friendship(f)"
   ]
  },
  {
   "cell_type": "code",
   "execution_count": null,
   "metadata": {},
   "outputs": [],
   "source": []
  }
 ],
 "metadata": {
  "kernelspec": {
   "display_name": "Python 3",
   "language": "python",
   "name": "python3"
  },
  "language_info": {
   "codemirror_mode": {
    "name": "ipython",
    "version": 3
   },
   "file_extension": ".py",
   "mimetype": "text/x-python",
   "name": "python",
   "nbconvert_exporter": "python",
   "pygments_lexer": "ipython3",
   "version": "3.6.4"
  }
 },
 "nbformat": 4,
 "nbformat_minor": 2
}
